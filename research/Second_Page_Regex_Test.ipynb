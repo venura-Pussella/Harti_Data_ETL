{
 "cells": [
  {
   "cell_type": "code",
   "execution_count": 1,
   "metadata": {},
   "outputs": [
    {
     "name": "stdout",
     "output_type": "stream",
     "text": [
      "Hector Kobbekaduwa Agrarian Research and Training Institute\n",
      "Data Management Division\n",
      "Wholesale Prices in Selected Markets (Rs/Kg)\n",
      "2024-06-29 2024-06-29 2024-06-29 2024-06-28 2024-06-29 2024-06-29 2024-06-29 2024-06-29 2024-06-29 2024-06-28\n",
      "Variety Peliyagoda Kandy Dambulla Meegoda NorochcholeThambuththegamaKeppetipola Nuwaraeliya Bandarawela Veyangoda\n",
      "Market Market Market Market Market Market Market Market Market Market\n",
      "Beans 550- 600 480- 520 480- 550 460- 530 - 400 - 500 400- 450 420 - 450 500 - 550 550- 580\n",
      "Carrot 300- 350 280 320 280- 380 350- 440 - 350 - 400 280- 300 340 - 360 300 - 340 400- 460\n",
      "Leeks 400- 420 350- 380 300- 400 400- 470 - 450 - 500 350- 360 340 - 360 350 - 400 400- 480\n",
      "Beet root 350- 400 480- 500 400- 450 - 350- 420 440 - 460 - - - -\n",
      "Beet Root(N'Eliya) 500- 550 500- 520 480- 500 - - - 380- 420 350 - 400 - 410- 530\n",
      "Knolkhol 200- 250 180- 200 230- 260 250- 350 - - 200- 250 230 - 260 180 - 200 240- 290\n",
      "Raddish 100- 120 100 120 60- 80 140- 160 30- 50 70 - 100 90- 110 140 - 170 90 - 100 100- 190\n",
      "Cabbage (N'Eliya) 140- 150 170- 180 140- 150 180- 200 - - 90- 100 140 - 150 100 - 130 -\n",
      "Cabbage (Kandy) 100- 120 130 150 100- 120 130- 150 - 200 - 240 - - - 170- 180\n",
      "Tomato 450- 500 500- 550 400- 500 460- 550 - 400 - 480 400- 450 420 - 460 430 - 450 520- 570\n",
      "Low country Vegetable\n",
      "Ladies Fingers 150- 160 160- 170 150- 170 120- 200 100- 150 130 - 150 - - 150 - 170 160- 180\n",
      "Brinjals 300- 350 200- 250 200- 300 190- 240 120- 180 130 - 200 150- 200 - 200 - 220 150- 260\n",
      "Capsicum 550- 600 500- 550 580- 640 630- 700 - 580 - 630 580- 620 590 - 630 650 - 700 670- 730\n",
      "Pumpkin 150- 160 120 130 120- 140 150- 170 - 110 - 140 150- 160 - 140 - 170 140- 200\n",
      "Cucumber 80- 100 70- 80 60- 85 80- 100 40- 60 50 - 70 80- 90 - 100 - 120 90- 100\n",
      "Bitter Gourd 500- 550 450- 500 500- 600 580- 630 500- 620 380 - 420 - - 500 - 520 550- 580\n",
      "Snake Gourd 200- 220 150 180 130- 150 200- 250 100- 120 120 - 130 - - 240 - 280 100- 200\n",
      "Drumstick - - - - - - - - -\n",
      "Luffa 180- 200 200- 220 150- 200 180- 250 150- 220 200 - 220 - - 220 - 240 280- 330\n",
      "Long Beans 300- 350 230- 250 160- 250 280- 350 230- 330 200 - 240 - - 220 - 240 260- 320\n",
      "Ash Plantains 180- 200 150 180 160- 180 240- 300 - 150 - 180 - - 160 - 180 250- 260\n",
      "Green Chillies 150- 200 100- 180 120- 200 220- 280 200- 230 120 - 250 180- 200 - 200 - 220 180- 220\n",
      "Lime 800- 1000 800- 900 550- 650 800- 950 - 700 - 750 - - 1000 - 1200 850- 870\n",
      "Sweet Potatoe 160- 180 130- 160 100- 130 120- 140 - 170 - 180 160- 180 - 150 - 160 140- 160\n",
      "Manioc 80- 100 80- 90 80- 100 90- 110 100- 130 80 - 90 100- 110 - - 130- 140\n",
      "Eggplant 200- 250 200- 220 200- 220 190- 260 160 - 200 -\n",
      "Potato(Imported) - 175- 180 170- 180 175- 200 - 170 - 180 - - 180 - 195 170- 173\n",
      "Potato (Welimada) - - - - - 300- 330 - 300 - 320 -\n",
      "Potato (Nuwaraeliya) 350- 360 350 360 340- 350 350- 400 - 300 - 330 - 300 - 320 350 - 360 -\n",
      "B'Onion Imported - 165 230 210- 220 160- 220 - 165 - 225 200- 240 - 180 - 235 178- 220\n",
      "Big-onion Local - - - - - - - - - -\n",
      "Banana\n",
      "Ambul(Rs/Kg) - 90- 120 - - 90 - 140\n",
      "Kolikuttu - 280- 300 - - 340 - 390\n",
      "Seeni - 80- 110 - - 130 - 150\n",
      "Anamalu (Rs/Fruits) - - - 16 - 20\n",
      "Papaya (Rs/Kg) - 170- 180 - - 130 - 180\n",
      "Passion Fruits(Rs/Fruits) - - - - 60 - 65\n",
      "Other Fruits (Rs/Fruit) - - -\n",
      "Pineapple - Large - - - -\n",
      "- Medium - - - 330 - 360\n",
      "- Small - - - -\n",
      "Mango - Betti - - - -\n",
      "- Karathakolomban- - - 82 - 100\n",
      "Woodapple - - - -\n",
      "Avocado - - - 56 - 82\n",
      "Orange - - - 70 - 80\n"
     ]
    }
   ],
   "source": [
    "import pdfplumber\n",
    "\n",
    "def extract_text_from_first_page(pdf_path):\n",
    "    # Read PDF file\n",
    "    with pdfplumber.open(pdf_path) as pdf:\n",
    "        # Extract text from the first page only\n",
    "        first_page_text = pdf.pages[0].extract_text()\n",
    "    \n",
    "    # Print the extracted text\n",
    "    print(first_page_text)\n",
    "\n",
    "# Example usage\n",
    "pdf_path = 'daily_29-06-2024.pdf'\n",
    "\n",
    "extract_text_from_first_page(pdf_path)"
   ]
  },
  {
   "cell_type": "code",
   "execution_count": null,
   "metadata": {},
   "outputs": [],
   "source": []
  }
 ],
 "metadata": {
  "kernelspec": {
   "display_name": "scrape",
   "language": "python",
   "name": "python3"
  },
  "language_info": {
   "codemirror_mode": {
    "name": "ipython",
    "version": 3
   },
   "file_extension": ".py",
   "mimetype": "text/x-python",
   "name": "python",
   "nbconvert_exporter": "python",
   "pygments_lexer": "ipython3",
   "version": "3.9.19"
  }
 },
 "nbformat": 4,
 "nbformat_minor": 2
}
