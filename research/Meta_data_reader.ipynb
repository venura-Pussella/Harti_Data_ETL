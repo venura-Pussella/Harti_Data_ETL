{
 "cells": [
  {
   "cell_type": "markdown",
   "metadata": {},
   "source": [
    "### Page - 1 Meta Data Reader"
   ]
  },
  {
   "cell_type": "code",
   "execution_count": 6,
   "metadata": {},
   "outputs": [
    {
     "name": "stdout",
     "output_type": "stream",
     "text": [
      "(Wholesale Prices of Rice & Subsidiary Food Crops)\n"
     ]
    },
    {
     "data": {
      "text/plain": [
       "True"
      ]
     },
     "execution_count": 6,
     "metadata": {},
     "output_type": "execute_result"
    }
   ],
   "source": [
    "import PyPDF2\n",
    "\n",
    "def check_line_in_first_page(pdf_path, line_to_find):\n",
    "    with open(pdf_path, 'rb') as file:\n",
    "        reader = PyPDF2.PdfReader(file)\n",
    "        first_page = reader.pages[0]\n",
    "        text = first_page.extract_text()\n",
    "        \n",
    "        if line_to_find in text:\n",
    "            print(f\"{line_to_find}\")\n",
    "            return True\n",
    "    return False\n",
    "\n",
    "# Path to the PDF file\n",
    "pdf_path = 'food_commodities_bulletin_daily_10-06-2024.pdf'\n",
    "line_to_find = \"(Wholesale Prices of Rice & Subsidiary Food Crops)\"\n",
    "\n",
    "# Check if the line exists on the first page of the PDF\n",
    "line_exists = check_line_in_first_page(pdf_path, line_to_find)\n",
    "line_exists\n"
   ]
  },
  {
   "cell_type": "markdown",
   "metadata": {},
   "source": [
    "### Page -2 Meta Data Reader"
   ]
  },
  {
   "cell_type": "code",
   "execution_count": 5,
   "metadata": {},
   "outputs": [
    {
     "name": "stdout",
     "output_type": "stream",
     "text": [
      "Wholesale Prices in Selected Markets ( Rs/Kg)\n"
     ]
    },
    {
     "data": {
      "text/plain": [
       "True"
      ]
     },
     "execution_count": 5,
     "metadata": {},
     "output_type": "execute_result"
    }
   ],
   "source": [
    "import PyPDF2\n",
    "\n",
    "def check_line_in_first_page(pdf_path, line_to_find):\n",
    "    with open(pdf_path, 'rb') as file:\n",
    "        reader = PyPDF2.PdfReader(file)\n",
    "        first_page = reader.pages[1]\n",
    "        text = first_page.extract_text()\n",
    "        \n",
    "        if line_to_find in text:\n",
    "            print(f\"{line_to_find}\")\n",
    "            return True\n",
    "    return False\n",
    "\n",
    "# Path to the PDF file\n",
    "pdf_path = 'food_commodities_bulletin_daily_10-06-2024.pdf'\n",
    "line_to_find = \"Wholesale Prices in Selected Markets ( Rs/Kg)\"\n",
    "\n",
    "# Check if the line exists on the first page of the PDF\n",
    "line_exists = check_line_in_first_page(pdf_path, line_to_find)\n",
    "line_exists"
   ]
  }
 ],
 "metadata": {
  "kernelspec": {
   "display_name": "scrape",
   "language": "python",
   "name": "python3"
  },
  "language_info": {
   "codemirror_mode": {
    "name": "ipython",
    "version": 3
   },
   "file_extension": ".py",
   "mimetype": "text/x-python",
   "name": "python",
   "nbconvert_exporter": "python",
   "pygments_lexer": "ipython3",
   "version": "3.8.19"
  }
 },
 "nbformat": 4,
 "nbformat_minor": 2
}
